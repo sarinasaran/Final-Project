{
 "cells": [
  {
   "cell_type": "code",
   "execution_count": 2,
   "metadata": {},
   "outputs": [],
   "source": [
    "import pandas as pd\n",
    "%matplotlib inline"
   ]
  },
  {
   "cell_type": "markdown",
   "metadata": {},
   "source": [
    "## Playgrounds"
   ]
  },
  {
   "cell_type": "markdown",
   "metadata": {},
   "source": [
    "The number of playgrounds in each neighborhood indicates how kid-friendly the neighborhoods are, and therefore how easy it would be to entertain children that you're babysitting. We looked at the City of Pittsburgh Playgrounds data set to gather the following information."
   ]
  },
  {
   "cell_type": "code",
   "execution_count": 15,
   "metadata": {},
   "outputs": [
    {
     "data": {
      "text/html": [
       "<div>\n",
       "<style scoped>\n",
       "    .dataframe tbody tr th:only-of-type {\n",
       "        vertical-align: middle;\n",
       "    }\n",
       "\n",
       "    .dataframe tbody tr th {\n",
       "        vertical-align: top;\n",
       "    }\n",
       "\n",
       "    .dataframe thead th {\n",
       "        text-align: right;\n",
       "    }\n",
       "</style>\n",
       "<table border=\"1\" class=\"dataframe\">\n",
       "  <thead>\n",
       "    <tr style=\"text-align: right;\">\n",
       "      <th></th>\n",
       "      <th>id</th>\n",
       "      <th>name</th>\n",
       "      <th>type</th>\n",
       "      <th>maintenance_responsibility</th>\n",
       "      <th>park</th>\n",
       "      <th>street</th>\n",
       "      <th>image</th>\n",
       "      <th>neighborhood</th>\n",
       "      <th>council_district</th>\n",
       "      <th>ward</th>\n",
       "      <th>tract</th>\n",
       "      <th>public_works_division</th>\n",
       "      <th>pli_division</th>\n",
       "      <th>police_zone</th>\n",
       "      <th>fire_zone</th>\n",
       "      <th>latitude</th>\n",
       "      <th>longitude</th>\n",
       "    </tr>\n",
       "  </thead>\n",
       "  <tbody>\n",
       "    <tr>\n",
       "      <th>0</th>\n",
       "      <td>731501774</td>\n",
       "      <td>Able Long Playground</td>\n",
       "      <td>NaN</td>\n",
       "      <td>Parks - Western</td>\n",
       "      <td>Able Long Park</td>\n",
       "      <td>COAST AVE</td>\n",
       "      <td>https://tools.wprdc.org/images/pittsburgh/play...</td>\n",
       "      <td>Beechview</td>\n",
       "      <td>4</td>\n",
       "      <td>19</td>\n",
       "      <td>42003192000</td>\n",
       "      <td>5</td>\n",
       "      <td>19</td>\n",
       "      <td>6</td>\n",
       "      <td>4-28</td>\n",
       "      <td>40.408365</td>\n",
       "      <td>-80.028445</td>\n",
       "    </tr>\n",
       "    <tr>\n",
       "      <th>1</th>\n",
       "      <td>1461276747</td>\n",
       "      <td>Albert Graham Playground</td>\n",
       "      <td>NaN</td>\n",
       "      <td>Parks - Schenley</td>\n",
       "      <td>Albert Turk Graham Park</td>\n",
       "      <td>FORESIDE PL</td>\n",
       "      <td>https://tools.wprdc.org/images/pittsburgh/play...</td>\n",
       "      <td>Crawford-Roberts</td>\n",
       "      <td>6</td>\n",
       "      <td>3</td>\n",
       "      <td>42003030500</td>\n",
       "      <td>3</td>\n",
       "      <td>3</td>\n",
       "      <td>2</td>\n",
       "      <td>2-1</td>\n",
       "      <td>40.440519</td>\n",
       "      <td>-79.984137</td>\n",
       "    </tr>\n",
       "    <tr>\n",
       "      <th>2</th>\n",
       "      <td>1860709784</td>\n",
       "      <td>Alpine Playground</td>\n",
       "      <td>NaN</td>\n",
       "      <td>Parks - Northern</td>\n",
       "      <td>Alpine Gardens Park</td>\n",
       "      <td>ALPINE AVE</td>\n",
       "      <td>https://tools.wprdc.org/images/pittsburgh/play...</td>\n",
       "      <td>Central Northside</td>\n",
       "      <td>6</td>\n",
       "      <td>25</td>\n",
       "      <td>42003250300</td>\n",
       "      <td>1</td>\n",
       "      <td>25</td>\n",
       "      <td>1</td>\n",
       "      <td>1-21</td>\n",
       "      <td>40.457707</td>\n",
       "      <td>-80.012952</td>\n",
       "    </tr>\n",
       "    <tr>\n",
       "      <th>3</th>\n",
       "      <td>1770671485</td>\n",
       "      <td>Alton Playground</td>\n",
       "      <td>NaN</td>\n",
       "      <td>Parks - Western</td>\n",
       "      <td>Alton Park</td>\n",
       "      <td>ANDICK WAY</td>\n",
       "      <td>https://tools.wprdc.org/images/pittsburgh/play...</td>\n",
       "      <td>Beechview</td>\n",
       "      <td>4</td>\n",
       "      <td>19</td>\n",
       "      <td>42003191600</td>\n",
       "      <td>5</td>\n",
       "      <td>19</td>\n",
       "      <td>6</td>\n",
       "      <td>4-28</td>\n",
       "      <td>40.414137</td>\n",
       "      <td>-80.021605</td>\n",
       "    </tr>\n",
       "    <tr>\n",
       "      <th>4</th>\n",
       "      <td>18942817</td>\n",
       "      <td>Ammon Playground</td>\n",
       "      <td>NaN</td>\n",
       "      <td>Parks - Schenley</td>\n",
       "      <td>Ammon Park</td>\n",
       "      <td>MEMORY LN</td>\n",
       "      <td>https://tools.wprdc.org/images/pittsburgh/play...</td>\n",
       "      <td>Bedford Dwellings</td>\n",
       "      <td>6</td>\n",
       "      <td>5</td>\n",
       "      <td>42003050900</td>\n",
       "      <td>3</td>\n",
       "      <td>5</td>\n",
       "      <td>2</td>\n",
       "      <td>2-5</td>\n",
       "      <td>40.449037</td>\n",
       "      <td>-79.978064</td>\n",
       "    </tr>\n",
       "    <tr>\n",
       "      <th>5</th>\n",
       "      <td>230731204</td>\n",
       "      <td>Arlington Playground</td>\n",
       "      <td>NaN</td>\n",
       "      <td>Parks - Southern</td>\n",
       "      <td>Arlington Park</td>\n",
       "      <td>FERNLEAF ST</td>\n",
       "      <td>https://tools.wprdc.org/images/pittsburgh/play...</td>\n",
       "      <td>South Side Slopes</td>\n",
       "      <td>3</td>\n",
       "      <td>16</td>\n",
       "      <td>42003160800</td>\n",
       "      <td>3</td>\n",
       "      <td>16</td>\n",
       "      <td>3</td>\n",
       "      <td>4-22</td>\n",
       "      <td>40.418094</td>\n",
       "      <td>-79.975429</td>\n",
       "    </tr>\n",
       "    <tr>\n",
       "      <th>6</th>\n",
       "      <td>420573029</td>\n",
       "      <td>Armstrong Playground</td>\n",
       "      <td>NaN</td>\n",
       "      <td>Parks - Southern</td>\n",
       "      <td>Armstrong Park</td>\n",
       "      <td>S 12TH ST</td>\n",
       "      <td>https://tools.wprdc.org/images/pittsburgh/play...</td>\n",
       "      <td>South Side Flats</td>\n",
       "      <td>3</td>\n",
       "      <td>17</td>\n",
       "      <td>42003170200</td>\n",
       "      <td>3</td>\n",
       "      <td>17</td>\n",
       "      <td>3</td>\n",
       "      <td>4-24</td>\n",
       "      <td>40.428165</td>\n",
       "      <td>-79.986121</td>\n",
       "    </tr>\n",
       "    <tr>\n",
       "      <th>7</th>\n",
       "      <td>113170092</td>\n",
       "      <td>Arsenal Playground</td>\n",
       "      <td>NaN</td>\n",
       "      <td>Parks - Northeast</td>\n",
       "      <td>Arsenal Park</td>\n",
       "      <td>40TH ST</td>\n",
       "      <td>https://tools.wprdc.org/images/pittsburgh/play...</td>\n",
       "      <td>Lower Lawrenceville</td>\n",
       "      <td>7</td>\n",
       "      <td>6</td>\n",
       "      <td>42003060300</td>\n",
       "      <td>2</td>\n",
       "      <td>6</td>\n",
       "      <td>2</td>\n",
       "      <td>3-3</td>\n",
       "      <td>40.466721</td>\n",
       "      <td>-79.961520</td>\n",
       "    </tr>\n",
       "    <tr>\n",
       "      <th>8</th>\n",
       "      <td>2089697067</td>\n",
       "      <td>August WIlson Playground</td>\n",
       "      <td>NaN</td>\n",
       "      <td>Parks - Schenley</td>\n",
       "      <td>August Wilson Park</td>\n",
       "      <td>CLIFF ST</td>\n",
       "      <td>https://tools.wprdc.org/images/pittsburgh/play...</td>\n",
       "      <td>Crawford-Roberts</td>\n",
       "      <td>6</td>\n",
       "      <td>3</td>\n",
       "      <td>42003030500</td>\n",
       "      <td>3</td>\n",
       "      <td>3</td>\n",
       "      <td>2</td>\n",
       "      <td>2-1</td>\n",
       "      <td>40.446510</td>\n",
       "      <td>-79.985968</td>\n",
       "    </tr>\n",
       "    <tr>\n",
       "      <th>9</th>\n",
       "      <td>2124405123</td>\n",
       "      <td>Banksville Playground</td>\n",
       "      <td>NaN</td>\n",
       "      <td>Parks - Western</td>\n",
       "      <td>Banksville Park</td>\n",
       "      <td>CRANE AVE</td>\n",
       "      <td>https://tools.wprdc.org/images/pittsburgh/play...</td>\n",
       "      <td>Banksville</td>\n",
       "      <td>2</td>\n",
       "      <td>20</td>\n",
       "      <td>42003202300</td>\n",
       "      <td>5</td>\n",
       "      <td>20</td>\n",
       "      <td>6</td>\n",
       "      <td>4-9</td>\n",
       "      <td>40.414666</td>\n",
       "      <td>-80.039342</td>\n",
       "    </tr>\n",
       "  </tbody>\n",
       "</table>\n",
       "</div>"
      ],
      "text/plain": [
       "           id                      name  type maintenance_responsibility  \\\n",
       "0   731501774      Able Long Playground   NaN            Parks - Western   \n",
       "1  1461276747  Albert Graham Playground   NaN           Parks - Schenley   \n",
       "2  1860709784         Alpine Playground   NaN           Parks - Northern   \n",
       "3  1770671485          Alton Playground   NaN            Parks - Western   \n",
       "4    18942817          Ammon Playground   NaN           Parks - Schenley   \n",
       "5   230731204      Arlington Playground   NaN           Parks - Southern   \n",
       "6   420573029      Armstrong Playground   NaN           Parks - Southern   \n",
       "7   113170092        Arsenal Playground   NaN          Parks - Northeast   \n",
       "8  2089697067  August WIlson Playground   NaN           Parks - Schenley   \n",
       "9  2124405123     Banksville Playground   NaN            Parks - Western   \n",
       "\n",
       "                      park       street  \\\n",
       "0           Able Long Park    COAST AVE   \n",
       "1  Albert Turk Graham Park  FORESIDE PL   \n",
       "2      Alpine Gardens Park   ALPINE AVE   \n",
       "3               Alton Park   ANDICK WAY   \n",
       "4               Ammon Park    MEMORY LN   \n",
       "5           Arlington Park  FERNLEAF ST   \n",
       "6           Armstrong Park    S 12TH ST   \n",
       "7             Arsenal Park      40TH ST   \n",
       "8       August Wilson Park     CLIFF ST   \n",
       "9          Banksville Park    CRANE AVE   \n",
       "\n",
       "                                               image         neighborhood  \\\n",
       "0  https://tools.wprdc.org/images/pittsburgh/play...            Beechview   \n",
       "1  https://tools.wprdc.org/images/pittsburgh/play...     Crawford-Roberts   \n",
       "2  https://tools.wprdc.org/images/pittsburgh/play...    Central Northside   \n",
       "3  https://tools.wprdc.org/images/pittsburgh/play...            Beechview   \n",
       "4  https://tools.wprdc.org/images/pittsburgh/play...    Bedford Dwellings   \n",
       "5  https://tools.wprdc.org/images/pittsburgh/play...    South Side Slopes   \n",
       "6  https://tools.wprdc.org/images/pittsburgh/play...     South Side Flats   \n",
       "7  https://tools.wprdc.org/images/pittsburgh/play...  Lower Lawrenceville   \n",
       "8  https://tools.wprdc.org/images/pittsburgh/play...     Crawford-Roberts   \n",
       "9  https://tools.wprdc.org/images/pittsburgh/play...           Banksville   \n",
       "\n",
       "   council_district  ward        tract  public_works_division  pli_division  \\\n",
       "0                 4    19  42003192000                      5            19   \n",
       "1                 6     3  42003030500                      3             3   \n",
       "2                 6    25  42003250300                      1            25   \n",
       "3                 4    19  42003191600                      5            19   \n",
       "4                 6     5  42003050900                      3             5   \n",
       "5                 3    16  42003160800                      3            16   \n",
       "6                 3    17  42003170200                      3            17   \n",
       "7                 7     6  42003060300                      2             6   \n",
       "8                 6     3  42003030500                      3             3   \n",
       "9                 2    20  42003202300                      5            20   \n",
       "\n",
       "   police_zone fire_zone   latitude  longitude  \n",
       "0            6      4-28  40.408365 -80.028445  \n",
       "1            2       2-1  40.440519 -79.984137  \n",
       "2            1      1-21  40.457707 -80.012952  \n",
       "3            6      4-28  40.414137 -80.021605  \n",
       "4            2       2-5  40.449037 -79.978064  \n",
       "5            3      4-22  40.418094 -79.975429  \n",
       "6            3      4-24  40.428165 -79.986121  \n",
       "7            2       3-3  40.466721 -79.961520  \n",
       "8            2       2-1  40.446510 -79.985968  \n",
       "9            6       4-9  40.414666 -80.039342  "
      ]
     },
     "execution_count": 15,
     "metadata": {},
     "output_type": "execute_result"
    }
   ],
   "source": [
    "# load in playground data\n",
    "playgrounds = pd.read_csv(\"playgrounds.csv\", sep=\",\")\n",
    "playgrounds.head(10)"
   ]
  },
  {
   "cell_type": "code",
   "execution_count": 11,
   "metadata": {},
   "outputs": [
    {
     "data": {
      "text/html": [
       "<div>\n",
       "<style scoped>\n",
       "    .dataframe tbody tr th:only-of-type {\n",
       "        vertical-align: middle;\n",
       "    }\n",
       "\n",
       "    .dataframe tbody tr th {\n",
       "        vertical-align: top;\n",
       "    }\n",
       "\n",
       "    .dataframe thead th {\n",
       "        text-align: right;\n",
       "    }\n",
       "</style>\n",
       "<table border=\"1\" class=\"dataframe\">\n",
       "  <thead>\n",
       "    <tr style=\"text-align: right;\">\n",
       "      <th></th>\n",
       "      <th>id</th>\n",
       "      <th>name</th>\n",
       "      <th>neighborhood</th>\n",
       "    </tr>\n",
       "  </thead>\n",
       "  <tbody>\n",
       "    <tr>\n",
       "      <th>0</th>\n",
       "      <td>731501774</td>\n",
       "      <td>Able Long Playground</td>\n",
       "      <td>Beechview</td>\n",
       "    </tr>\n",
       "    <tr>\n",
       "      <th>1</th>\n",
       "      <td>1461276747</td>\n",
       "      <td>Albert Graham Playground</td>\n",
       "      <td>Crawford-Roberts</td>\n",
       "    </tr>\n",
       "    <tr>\n",
       "      <th>2</th>\n",
       "      <td>1860709784</td>\n",
       "      <td>Alpine Playground</td>\n",
       "      <td>Central Northside</td>\n",
       "    </tr>\n",
       "    <tr>\n",
       "      <th>3</th>\n",
       "      <td>1770671485</td>\n",
       "      <td>Alton Playground</td>\n",
       "      <td>Beechview</td>\n",
       "    </tr>\n",
       "    <tr>\n",
       "      <th>4</th>\n",
       "      <td>18942817</td>\n",
       "      <td>Ammon Playground</td>\n",
       "      <td>Bedford Dwellings</td>\n",
       "    </tr>\n",
       "    <tr>\n",
       "      <th>...</th>\n",
       "      <td>...</td>\n",
       "      <td>...</td>\n",
       "      <td>...</td>\n",
       "    </tr>\n",
       "    <tr>\n",
       "      <th>120</th>\n",
       "      <td>1199980206</td>\n",
       "      <td>Phillips Lower Playground</td>\n",
       "      <td>Carrick</td>\n",
       "    </tr>\n",
       "    <tr>\n",
       "      <th>121</th>\n",
       "      <td>2108783707</td>\n",
       "      <td>Duncan Park Playground</td>\n",
       "      <td>Upper Lawrenceville</td>\n",
       "    </tr>\n",
       "    <tr>\n",
       "      <th>122</th>\n",
       "      <td>675610013</td>\n",
       "      <td>McKinley Upper Playground</td>\n",
       "      <td>Beltzhoover</td>\n",
       "    </tr>\n",
       "    <tr>\n",
       "      <th>123</th>\n",
       "      <td>1683700344</td>\n",
       "      <td>Liberty Green Playground</td>\n",
       "      <td>East Liberty</td>\n",
       "    </tr>\n",
       "    <tr>\n",
       "      <th>124</th>\n",
       "      <td>311422075</td>\n",
       "      <td>Spring Garden Ave Playground</td>\n",
       "      <td>East Allegheny</td>\n",
       "    </tr>\n",
       "  </tbody>\n",
       "</table>\n",
       "<p>125 rows × 3 columns</p>\n",
       "</div>"
      ],
      "text/plain": [
       "             id                          name         neighborhood\n",
       "0     731501774          Able Long Playground            Beechview\n",
       "1    1461276747      Albert Graham Playground     Crawford-Roberts\n",
       "2    1860709784             Alpine Playground    Central Northside\n",
       "3    1770671485              Alton Playground            Beechview\n",
       "4      18942817              Ammon Playground    Bedford Dwellings\n",
       "..          ...                           ...                  ...\n",
       "120  1199980206     Phillips Lower Playground              Carrick\n",
       "121  2108783707        Duncan Park Playground  Upper Lawrenceville\n",
       "122   675610013     McKinley Upper Playground          Beltzhoover\n",
       "123  1683700344      Liberty Green Playground         East Liberty\n",
       "124   311422075  Spring Garden Ave Playground       East Allegheny\n",
       "\n",
       "[125 rows x 3 columns]"
      ]
     },
     "execution_count": 11,
     "metadata": {},
     "output_type": "execute_result"
    }
   ],
   "source": [
    "# filtering out unnecessary columns\n",
    "playgrounds[[\"id\", \"name\", \"neighborhood\"]]"
   ]
  },
  {
   "cell_type": "code",
   "execution_count": 34,
   "metadata": {},
   "outputs": [
    {
     "data": {
      "text/plain": [
       "Squirrel Hill South    8\n",
       "Beechview              5\n",
       "South Side Slopes      5\n",
       "Highland Park          4\n",
       "Sheraden               4\n",
       "                      ..\n",
       "Esplen                 1\n",
       "Fairywood              1\n",
       "Regent Square          1\n",
       "Allentown              1\n",
       "East Allegheny         1\n",
       "Name: neighborhood, Length: 68, dtype: int64"
      ]
     },
     "execution_count": 34,
     "metadata": {},
     "output_type": "execute_result"
    }
   ],
   "source": [
    "# tells us how many playgrounds are in each neighborhood\n",
    "playgrounds[\"neighborhood\"].value_counts()"
   ]
  },
  {
   "cell_type": "code",
   "execution_count": 35,
   "metadata": {},
   "outputs": [
    {
     "data": {
      "text/plain": [
       "Squirrel Hill South    8\n",
       "Beechview              5\n",
       "South Side Slopes      5\n",
       "Highland Park          4\n",
       "Sheraden               4\n",
       "Beltzhoover            4\n",
       "Allegheny Center       4\n",
       "Carrick                3\n",
       "Mount Washington       3\n",
       "Elliott                3\n",
       "Name: neighborhood, dtype: int64"
      ]
     },
     "execution_count": 35,
     "metadata": {},
     "output_type": "execute_result"
    }
   ],
   "source": [
    "# shows neighborhoods with most playgrounds\n",
    "top_neighborhood_counts = playgrounds[\"neighborhood\"].value_counts().head(10)\n",
    "top_neighborhood_counts"
   ]
  },
  {
   "cell_type": "code",
   "execution_count": 36,
   "metadata": {},
   "outputs": [
    {
     "data": {
      "text/plain": [
       "<matplotlib.axes._subplots.AxesSubplot at 0x7f10bd7b63d0>"
      ]
     },
     "execution_count": 36,
     "metadata": {},
     "output_type": "execute_result"
    },
    {
     "data": {
      "image/png": "[encoded data removed]",
      "text/plain": [
       "<Figure size 432x288 with 1 Axes>"
      ]
     },
     "metadata": {
      "needs_background": "light"
     },
     "output_type": "display_data"
    }
   ],
   "source": [
    "# plot bar graph of neighborhoods with most playgrounds\n",
    "top_neighborhood_counts.plot.bar(title=\"Neighborhoods with Most Playgrounds\", \n",
    "                                 xlabel=\"Neighborhood\", ylabel=\"Playground Count\")"
   ]
  },
  {
   "cell_type": "markdown",
   "metadata": {},
   "source": [
    "This data set only shows neighborhoods with at least one playground, so looking at the lowest ranking neighborhoods isn't all that useful. Still, here it is."
   ]
  },
  {
   "cell_type": "code",
   "execution_count": 37,
   "metadata": {},
   "outputs": [
    {
     "data": {
      "text/plain": [
       "Strip District      1\n",
       "Stanton Heights     1\n",
       "West Oakland        1\n",
       "East Carnegie       1\n",
       "Duquesne Heights    1\n",
       "Esplen              1\n",
       "Fairywood           1\n",
       "Regent Square       1\n",
       "Allentown           1\n",
       "East Allegheny      1\n",
       "Name: neighborhood, dtype: int64"
      ]
     },
     "execution_count": 37,
     "metadata": {},
     "output_type": "execute_result"
    }
   ],
   "source": [
    "# shows neighborhoods with fewest playgrounds (at least one)\n",
    "bottom_neighborhood_counts = playgrounds[\"neighborhood\"].value_counts().tail(10)\n",
    "bottom_neighborhood_counts"
   ]
  },
  {
   "cell_type": "code",
   "execution_count": 27,
   "metadata": {},
   "outputs": [
    {
     "data": {
      "text/plain": [
       "<matplotlib.axes._subplots.AxesSubplot at 0x7f10bf74ca90>"
      ]
     },
     "execution_count": 27,
     "metadata": {},
     "output_type": "execute_result"
    },
    {
     "data": {
      "image/png": "[encoded data removed]",
      "text/plain": [
       "<Figure size 432x288 with 1 Axes>"
      ]
     },
     "metadata": {
      "needs_background": "light"
     },
     "output_type": "display_data"
    }
   ],
   "source": [
    "# plot bar graph of neighborhoods with least playgrounds\n",
    "bottom_neighborhood_counts.plot.bar(title=\"Neighborhoods with Least Playgrounds\", \n",
    "                                 xlabel=\"Neighborhood\", ylabel=\"Playground Count\")"
   ]
  },
  {
   "cell_type": "markdown",
   "metadata": {},
   "source": [
    "See? Not that useful. Let's also look at a plot for all playgrounds. It won't be easy to read, but it will give us an idea of the shape of the graph."
   ]
  },
  {
   "cell_type": "code",
   "execution_count": 38,
   "metadata": {},
   "outputs": [
    {
     "data": {
      "text/plain": [
       "<matplotlib.axes._subplots.AxesSubplot at 0x7f10bd6ea7c0>"
      ]
     },
     "execution_count": 38,
     "metadata": {},
     "output_type": "execute_result"
    },
    {
     "data": {
      "image/png": "[encoded data removed]",
      "text/plain": [
       "<Figure size 1440x720 with 1 Axes>"
      ]
     },
     "metadata": {
      "needs_background": "light"
     },
     "output_type": "display_data"
    }
   ],
   "source": [
    "# shows the graph of all neighborhoods that have at least one playground\n",
    "all_neighborhoods = playgrounds[\"neighborhood\"].value_counts()\n",
    "all_neighborhoods.plot.bar(title=\"Playgrounds in Pittsburgh Neighborhoods\", \n",
    "                                 xlabel=\"Neighborhood\", ylabel=\"Playground Count\", figsize=(20,10))"
   ]
  },
  {
   "cell_type": "markdown",
   "metadata": {},
   "source": [
    "This all goes to show that **Squirrel Hill South** is the \"best\" neighborhood in terms of finding a good place to entertain children. Let's see what our other data sets tell us!"
   ]
  },
  {
   "cell_type": "markdown",
   "metadata": {},
   "source": [
    "## Signalized Intersections"
   ]
  },
  {
   "cell_type": "markdown",
   "metadata": {},
   "source": [
    "Unlike playgrounds, we want to minimize the number of intersections that we might encounter while babysitting, because those are dangerous for kids. We definitely want to avoid any potentially dangerous situations with kids, so let's see which neighborhoods have the fewest intersections."
   ]
  },
  {
   "cell_type": "code",
   "execution_count": 39,
   "metadata": {},
   "outputs": [
    {
     "data": {
      "text/html": [
       "<div>\n",
       "<style scoped>\n",
       "    .dataframe tbody tr th:only-of-type {\n",
       "        vertical-align: middle;\n",
       "    }\n",
       "\n",
       "    .dataframe tbody tr th {\n",
       "        vertical-align: top;\n",
       "    }\n",
       "\n",
       "    .dataframe thead th {\n",
       "        text-align: right;\n",
       "    }\n",
       "</style>\n",
       "<table border=\"1\" class=\"dataframe\">\n",
       "  <thead>\n",
       "    <tr style=\"text-align: right;\">\n",
       "      <th></th>\n",
       "      <th>id</th>\n",
       "      <th>name</th>\n",
       "      <th>description</th>\n",
       "      <th>flash_time</th>\n",
       "      <th>flash_yellow</th>\n",
       "      <th>operation_type</th>\n",
       "      <th>neighborhood</th>\n",
       "      <th>council_district</th>\n",
       "      <th>ward</th>\n",
       "      <th>tract</th>\n",
       "      <th>public_works_division</th>\n",
       "      <th>pli_division</th>\n",
       "      <th>police_zone</th>\n",
       "      <th>fire_zone</th>\n",
       "      <th>latitude</th>\n",
       "      <th>longitude</th>\n",
       "    </tr>\n",
       "  </thead>\n",
       "  <tbody>\n",
       "    <tr>\n",
       "      <th>0</th>\n",
       "      <td>1233506574</td>\n",
       "      <td>TS1</td>\n",
       "      <td>Aiken Ave - Baum Blvd</td>\n",
       "      <td>24 Hr stop and go</td>\n",
       "      <td>NaN</td>\n",
       "      <td>Fully Actuated</td>\n",
       "      <td>Bloomfield</td>\n",
       "      <td>7.0</td>\n",
       "      <td>8.0</td>\n",
       "      <td>4.200308e+10</td>\n",
       "      <td>2.0</td>\n",
       "      <td>8.0</td>\n",
       "      <td>5.0</td>\n",
       "      <td>3-23</td>\n",
       "      <td>40.456941</td>\n",
       "      <td>-79.938539</td>\n",
       "    </tr>\n",
       "    <tr>\n",
       "      <th>1</th>\n",
       "      <td>322808398</td>\n",
       "      <td>TS10</td>\n",
       "      <td>Alexander St - Steuben St</td>\n",
       "      <td>24 Hr stop and go</td>\n",
       "      <td>NaN</td>\n",
       "      <td>Semi Actuated</td>\n",
       "      <td>West End</td>\n",
       "      <td>2.0</td>\n",
       "      <td>20.0</td>\n",
       "      <td>4.200356e+10</td>\n",
       "      <td>5.0</td>\n",
       "      <td>20.0</td>\n",
       "      <td>6.0</td>\n",
       "      <td>1-17</td>\n",
       "      <td>40.441993</td>\n",
       "      <td>-80.034544</td>\n",
       "    </tr>\n",
       "    <tr>\n",
       "      <th>2</th>\n",
       "      <td>1626189126</td>\n",
       "      <td>TS100</td>\n",
       "      <td>Beeler St - Forbes Ave</td>\n",
       "      <td>24 Hr stop and go</td>\n",
       "      <td>NaN</td>\n",
       "      <td>Semi Actuated</td>\n",
       "      <td>Squirrel Hill North</td>\n",
       "      <td>8.0</td>\n",
       "      <td>14.0</td>\n",
       "      <td>4.200314e+10</td>\n",
       "      <td>3.0</td>\n",
       "      <td>14.0</td>\n",
       "      <td>4.0</td>\n",
       "      <td>2-26</td>\n",
       "      <td>40.443890</td>\n",
       "      <td>-79.938799</td>\n",
       "    </tr>\n",
       "    <tr>\n",
       "      <th>3</th>\n",
       "      <td>2085487046</td>\n",
       "      <td>TS101</td>\n",
       "      <td>Beeler St - Wilkins Ave</td>\n",
       "      <td>00:00 - 06:00</td>\n",
       "      <td>NaN</td>\n",
       "      <td>Fixed</td>\n",
       "      <td>Squirrel Hill North</td>\n",
       "      <td>8.0</td>\n",
       "      <td>14.0</td>\n",
       "      <td>4.200314e+10</td>\n",
       "      <td>3.0</td>\n",
       "      <td>14.0</td>\n",
       "      <td>4.0</td>\n",
       "      <td>2-26</td>\n",
       "      <td>40.445636</td>\n",
       "      <td>-79.931220</td>\n",
       "    </tr>\n",
       "    <tr>\n",
       "      <th>4</th>\n",
       "      <td>1187990770</td>\n",
       "      <td>TS102</td>\n",
       "      <td>Bellefield Ave - Fifth Ave</td>\n",
       "      <td>24 Hr stop and go</td>\n",
       "      <td>FIFTH AVE</td>\n",
       "      <td>Fixed</td>\n",
       "      <td>North Oakland</td>\n",
       "      <td>8.0</td>\n",
       "      <td>4.0</td>\n",
       "      <td>4.200304e+10</td>\n",
       "      <td>3.0</td>\n",
       "      <td>4.0</td>\n",
       "      <td>4.0</td>\n",
       "      <td>2-7</td>\n",
       "      <td>40.446484</td>\n",
       "      <td>-79.951914</td>\n",
       "    </tr>\n",
       "    <tr>\n",
       "      <th>5</th>\n",
       "      <td>1501913538</td>\n",
       "      <td>TS103</td>\n",
       "      <td>Bellefield Ave - Forbes Ave</td>\n",
       "      <td>24 Hr stop and go</td>\n",
       "      <td>NaN</td>\n",
       "      <td>Semi Actuated</td>\n",
       "      <td>North Oakland</td>\n",
       "      <td>8.0</td>\n",
       "      <td>4.0</td>\n",
       "      <td>4.200398e+10</td>\n",
       "      <td>3.0</td>\n",
       "      <td>4.0</td>\n",
       "      <td>4.0</td>\n",
       "      <td>2-8</td>\n",
       "      <td>40.443926</td>\n",
       "      <td>-79.950692</td>\n",
       "    </tr>\n",
       "    <tr>\n",
       "      <th>6</th>\n",
       "      <td>780829291</td>\n",
       "      <td>TS104</td>\n",
       "      <td>Beltzhoover Ave - Warrington Ave</td>\n",
       "      <td>24 Hr stop and go</td>\n",
       "      <td>E WARRINGTON AVE</td>\n",
       "      <td>Fully Actuated</td>\n",
       "      <td>Allentown</td>\n",
       "      <td>3.0</td>\n",
       "      <td>18.0</td>\n",
       "      <td>4.200318e+10</td>\n",
       "      <td>5.0</td>\n",
       "      <td>18.0</td>\n",
       "      <td>3.0</td>\n",
       "      <td>4-21</td>\n",
       "      <td>40.421656</td>\n",
       "      <td>-79.997404</td>\n",
       "    </tr>\n",
       "    <tr>\n",
       "      <th>7</th>\n",
       "      <td>2111045907</td>\n",
       "      <td>TS105</td>\n",
       "      <td>Bennett St - Braddock Ave</td>\n",
       "      <td>24 Hr stop and go</td>\n",
       "      <td>BENNETT ST</td>\n",
       "      <td>Fixed</td>\n",
       "      <td>Homewood South</td>\n",
       "      <td>9.0</td>\n",
       "      <td>13.0</td>\n",
       "      <td>4.200313e+10</td>\n",
       "      <td>2.0</td>\n",
       "      <td>13.0</td>\n",
       "      <td>5.0</td>\n",
       "      <td>3-17</td>\n",
       "      <td>40.455041</td>\n",
       "      <td>-79.890383</td>\n",
       "    </tr>\n",
       "    <tr>\n",
       "      <th>8</th>\n",
       "      <td>1038462210</td>\n",
       "      <td>TS106</td>\n",
       "      <td>Bennett St - Brushton Ave</td>\n",
       "      <td>24 Hr stop and go</td>\n",
       "      <td>BENNETT ST</td>\n",
       "      <td>Fixed</td>\n",
       "      <td>Homewood South</td>\n",
       "      <td>9.0</td>\n",
       "      <td>13.0</td>\n",
       "      <td>4.200313e+10</td>\n",
       "      <td>2.0</td>\n",
       "      <td>13.0</td>\n",
       "      <td>5.0</td>\n",
       "      <td>3-17</td>\n",
       "      <td>40.454606</td>\n",
       "      <td>-79.888461</td>\n",
       "    </tr>\n",
       "    <tr>\n",
       "      <th>9</th>\n",
       "      <td>855106730</td>\n",
       "      <td>TS107</td>\n",
       "      <td>Bennett St - Dallas Ave - Frankstown Ave</td>\n",
       "      <td>24 Hr stop and go</td>\n",
       "      <td>NaN</td>\n",
       "      <td>Actuated</td>\n",
       "      <td>Homewood West</td>\n",
       "      <td>9.0</td>\n",
       "      <td>12.0</td>\n",
       "      <td>4.200312e+10</td>\n",
       "      <td>2.0</td>\n",
       "      <td>12.0</td>\n",
       "      <td>5.0</td>\n",
       "      <td>3-17</td>\n",
       "      <td>40.458093</td>\n",
       "      <td>-79.904139</td>\n",
       "    </tr>\n",
       "  </tbody>\n",
       "</table>\n",
       "</div>"
      ],
      "text/plain": [
       "           id   name                               description  \\\n",
       "0  1233506574    TS1                     Aiken Ave - Baum Blvd   \n",
       "1   322808398   TS10                 Alexander St - Steuben St   \n",
       "2  1626189126  TS100                    Beeler St - Forbes Ave   \n",
       "3  2085487046  TS101                   Beeler St - Wilkins Ave   \n",
       "4  1187990770  TS102                Bellefield Ave - Fifth Ave   \n",
       "5  1501913538  TS103               Bellefield Ave - Forbes Ave   \n",
       "6   780829291  TS104          Beltzhoover Ave - Warrington Ave   \n",
       "7  2111045907  TS105                 Bennett St - Braddock Ave   \n",
       "8  1038462210  TS106                 Bennett St - Brushton Ave   \n",
       "9   855106730  TS107  Bennett St - Dallas Ave - Frankstown Ave   \n",
       "\n",
       "          flash_time      flash_yellow  operation_type         neighborhood  \\\n",
       "0  24 Hr stop and go               NaN  Fully Actuated           Bloomfield   \n",
       "1  24 Hr stop and go               NaN   Semi Actuated             West End   \n",
       "2  24 Hr stop and go               NaN   Semi Actuated  Squirrel Hill North   \n",
       "3      00:00 - 06:00               NaN           Fixed  Squirrel Hill North   \n",
       "4  24 Hr stop and go         FIFTH AVE           Fixed        North Oakland   \n",
       "5  24 Hr stop and go               NaN   Semi Actuated        North Oakland   \n",
       "6  24 Hr stop and go  E WARRINGTON AVE  Fully Actuated            Allentown   \n",
       "7  24 Hr stop and go        BENNETT ST           Fixed       Homewood South   \n",
       "8  24 Hr stop and go        BENNETT ST           Fixed       Homewood South   \n",
       "9  24 Hr stop and go               NaN        Actuated        Homewood West   \n",
       "\n",
       "   council_district  ward         tract  public_works_division  pli_division  \\\n",
       "0               7.0   8.0  4.200308e+10                    2.0           8.0   \n",
       "1               2.0  20.0  4.200356e+10                    5.0          20.0   \n",
       "2               8.0  14.0  4.200314e+10                    3.0          14.0   \n",
       "3               8.0  14.0  4.200314e+10                    3.0          14.0   \n",
       "4               8.0   4.0  4.200304e+10                    3.0           4.0   \n",
       "5               8.0   4.0  4.200398e+10                    3.0           4.0   \n",
       "6               3.0  18.0  4.200318e+10                    5.0          18.0   \n",
       "7               9.0  13.0  4.200313e+10                    2.0          13.0   \n",
       "8               9.0  13.0  4.200313e+10                    2.0          13.0   \n",
       "9               9.0  12.0  4.200312e+10                    2.0          12.0   \n",
       "\n",
       "   police_zone fire_zone   latitude  longitude  \n",
       "0          5.0      3-23  40.456941 -79.938539  \n",
       "1          6.0      1-17  40.441993 -80.034544  \n",
       "2          4.0      2-26  40.443890 -79.938799  \n",
       "3          4.0      2-26  40.445636 -79.931220  \n",
       "4          4.0       2-7  40.446484 -79.951914  \n",
       "5          4.0       2-8  40.443926 -79.950692  \n",
       "6          3.0      4-21  40.421656 -79.997404  \n",
       "7          5.0      3-17  40.455041 -79.890383  \n",
       "8          5.0      3-17  40.454606 -79.888461  \n",
       "9          5.0      3-17  40.458093 -79.904139  "
      ]
     },
     "execution_count": 39,
     "metadata": {},
     "output_type": "execute_result"
    }
   ],
   "source": [
    "# load in intersection data\n",
    "intersections = pd.read_csv(\"intersections.csv\", sep=\",\")\n",
    "intersections.head(10)"
   ]
  },
  {
   "cell_type": "code",
   "execution_count": 40,
   "metadata": {},
   "outputs": [
    {
     "data": {
      "text/html": [
       "<div>\n",
       "<style scoped>\n",
       "    .dataframe tbody tr th:only-of-type {\n",
       "        vertical-align: middle;\n",
       "    }\n",
       "\n",
       "    .dataframe tbody tr th {\n",
       "        vertical-align: top;\n",
       "    }\n",
       "\n",
       "    .dataframe thead th {\n",
       "        text-align: right;\n",
       "    }\n",
       "</style>\n",
       "<table border=\"1\" class=\"dataframe\">\n",
       "  <thead>\n",
       "    <tr style=\"text-align: right;\">\n",
       "      <th></th>\n",
       "      <th>id</th>\n",
       "      <th>description</th>\n",
       "      <th>neighborhood</th>\n",
       "    </tr>\n",
       "  </thead>\n",
       "  <tbody>\n",
       "    <tr>\n",
       "      <th>0</th>\n",
       "      <td>1233506574</td>\n",
       "      <td>Aiken Ave - Baum Blvd</td>\n",
       "      <td>Bloomfield</td>\n",
       "    </tr>\n",
       "    <tr>\n",
       "      <th>1</th>\n",
       "      <td>322808398</td>\n",
       "      <td>Alexander St - Steuben St</td>\n",
       "      <td>West End</td>\n",
       "    </tr>\n",
       "    <tr>\n",
       "      <th>2</th>\n",
       "      <td>1626189126</td>\n",
       "      <td>Beeler St - Forbes Ave</td>\n",
       "      <td>Squirrel Hill North</td>\n",
       "    </tr>\n",
       "    <tr>\n",
       "      <th>3</th>\n",
       "      <td>2085487046</td>\n",
       "      <td>Beeler St - Wilkins Ave</td>\n",
       "      <td>Squirrel Hill North</td>\n",
       "    </tr>\n",
       "    <tr>\n",
       "      <th>4</th>\n",
       "      <td>1187990770</td>\n",
       "      <td>Bellefield Ave - Fifth Ave</td>\n",
       "      <td>North Oakland</td>\n",
       "    </tr>\n",
       "    <tr>\n",
       "      <th>...</th>\n",
       "      <td>...</td>\n",
       "      <td>...</td>\n",
       "      <td>...</td>\n",
       "    </tr>\n",
       "    <tr>\n",
       "      <th>778</th>\n",
       "      <td>1614046252</td>\n",
       "      <td>Flashing Beacon and Speed Minder</td>\n",
       "      <td>Greenfield</td>\n",
       "    </tr>\n",
       "    <tr>\n",
       "      <th>779</th>\n",
       "      <td>1830263951</td>\n",
       "      <td>Flashing Warning Device - Carson St - S 2nd St</td>\n",
       "      <td>South Shore</td>\n",
       "    </tr>\n",
       "    <tr>\n",
       "      <th>780</th>\n",
       "      <td>2132586828</td>\n",
       "      <td>RRFB - Carson St - Terminal Way</td>\n",
       "      <td>South Side Flats</td>\n",
       "    </tr>\n",
       "    <tr>\n",
       "      <th>781</th>\n",
       "      <td>1367398325</td>\n",
       "      <td>Sycamore St Approach</td>\n",
       "      <td>South Shore</td>\n",
       "    </tr>\n",
       "    <tr>\n",
       "      <th>782</th>\n",
       "      <td>2116421282</td>\n",
       "      <td>Pioneer Avenue at Seton Center Driveway</td>\n",
       "      <td>Brookline</td>\n",
       "    </tr>\n",
       "  </tbody>\n",
       "</table>\n",
       "<p>783 rows × 3 columns</p>\n",
       "</div>"
      ],
      "text/plain": [
       "             id                                     description  \\\n",
       "0    1233506574                           Aiken Ave - Baum Blvd   \n",
       "1     322808398                       Alexander St - Steuben St   \n",
       "2    1626189126                          Beeler St - Forbes Ave   \n",
       "3    2085487046                         Beeler St - Wilkins Ave   \n",
       "4    1187990770                      Bellefield Ave - Fifth Ave   \n",
       "..          ...                                             ...   \n",
       "778  1614046252                Flashing Beacon and Speed Minder   \n",
       "779  1830263951  Flashing Warning Device - Carson St - S 2nd St   \n",
       "780  2132586828                 RRFB - Carson St - Terminal Way   \n",
       "781  1367398325                            Sycamore St Approach   \n",
       "782  2116421282         Pioneer Avenue at Seton Center Driveway   \n",
       "\n",
       "            neighborhood  \n",
       "0             Bloomfield  \n",
       "1               West End  \n",
       "2    Squirrel Hill North  \n",
       "3    Squirrel Hill North  \n",
       "4          North Oakland  \n",
       "..                   ...  \n",
       "778           Greenfield  \n",
       "779          South Shore  \n",
       "780     South Side Flats  \n",
       "781          South Shore  \n",
       "782            Brookline  \n",
       "\n",
       "[783 rows x 3 columns]"
      ]
     },
     "execution_count": 40,
     "metadata": {},
     "output_type": "execute_result"
    }
   ],
   "source": [
    "# filtering out unnecessary columns\n",
    "intersections[[\"id\", \"description\", \"neighborhood\"]]"
   ]
  },
  {
   "cell_type": "code",
   "execution_count": 41,
   "metadata": {},
   "outputs": [
    {
     "data": {
      "text/plain": [
       "Central Business District    88\n",
       "Shadyside                    35\n",
       "Squirrel Hill South          31\n",
       "East Liberty                 31\n",
       "South Side Flats             30\n",
       "                             ..\n",
       "Terrace Village               1\n",
       "New Homestead                 1\n",
       "Fairywood                     1\n",
       "Hays                          1\n",
       "Windgap                       1\n",
       "Name: neighborhood, Length: 82, dtype: int64"
      ]
     },
     "execution_count": 41,
     "metadata": {},
     "output_type": "execute_result"
    }
   ],
   "source": [
    "# tells us how many intersections are in each neighborhood\n",
    "intersections[\"neighborhood\"].value_counts()"
   ]
  },
  {
   "cell_type": "code",
   "execution_count": 42,
   "metadata": {},
   "outputs": [
    {
     "data": {
      "text/plain": [
       "Central Business District    88\n",
       "Shadyside                    35\n",
       "Squirrel Hill South          31\n",
       "East Liberty                 31\n",
       "South Side Flats             30\n",
       "Bloomfield                   30\n",
       "North Oakland                28\n",
       "Squirrel Hill North          22\n",
       "Bluff                        21\n",
       "Homewood South               20\n",
       "Name: neighborhood, dtype: int64"
      ]
     },
     "execution_count": 42,
     "metadata": {},
     "output_type": "execute_result"
    }
   ],
   "source": [
    "# shows neighborhoods with most intersections\n",
    "most_neighborhood_counts = intersections[\"neighborhood\"].value_counts().head(10)\n",
    "most_neighborhood_counts"
   ]
  },
  {
   "cell_type": "code",
   "execution_count": 44,
   "metadata": {},
   "outputs": [
    {
     "data": {
      "text/plain": [
       "<matplotlib.axes._subplots.AxesSubplot at 0x7f10bd49f610>"
      ]
     },
     "execution_count": 44,
     "metadata": {},
     "output_type": "execute_result"
    },
    {
     "data": {
      "image/png": "[encoded data removed]",
      "text/plain": [
       "<Figure size 432x288 with 1 Axes>"
      ]
     },
     "metadata": {
      "needs_background": "light"
     },
     "output_type": "display_data"
    }
   ],
   "source": [
    "# plot bar graph of neighborhoods with most intersections\n",
    "most_neighborhood_counts.plot.bar(title=\"Neighborhoods with Most Intersections\", \n",
    "                                 xlabel=\"Neighborhood\", ylabel=\"Intersection Count\")"
   ]
  },
  {
   "cell_type": "markdown",
   "metadata": {},
   "source": [
    "Uh oh. Looks like Squirrel Hill South might not be the best neighborhood to babysit in - there are a lot of intersections in that neighborhood!"
   ]
  },
  {
   "cell_type": "code",
   "execution_count": 45,
   "metadata": {},
   "outputs": [
    {
     "data": {
      "text/plain": [
       "Bedford Dwellings       1\n",
       "Regent Square           1\n",
       "East Carnegie           1\n",
       "Mount Oliver Borough    1\n",
       "St. Clair               1\n",
       "Terrace Village         1\n",
       "New Homestead           1\n",
       "Fairywood               1\n",
       "Hays                    1\n",
       "Windgap                 1\n",
       "Name: neighborhood, dtype: int64"
      ]
     },
     "execution_count": 45,
     "metadata": {},
     "output_type": "execute_result"
    }
   ],
   "source": [
    "# shows neighborhoods with least intersections\n",
    "least_neighborhood_counts = intersections[\"neighborhood\"].value_counts().tail(10)\n",
    "least_neighborhood_counts"
   ]
  },
  {
   "cell_type": "markdown",
   "metadata": {},
   "source": [
    "Since there are more than 10 neighborhoods with only one intersection, let's use a mask to get all of the neighborhoods with only one intersection."
   ]
  },
  {
   "cell_type": "code",
   "execution_count": 72,
   "metadata": {},
   "outputs": [
    {
     "data": {
      "text/plain": [
       "Central Business District    False\n",
       "Shadyside                    False\n",
       "Squirrel Hill South          False\n",
       "East Liberty                 False\n",
       "South Side Flats             False\n",
       "                             ...  \n",
       "Terrace Village               True\n",
       "New Homestead                 True\n",
       "Fairywood                     True\n",
       "Hays                          True\n",
       "Windgap                       True\n",
       "Name: neighborhood, Length: 82, dtype: bool"
      ]
     },
     "execution_count": 72,
     "metadata": {},
     "output_type": "execute_result"
    }
   ],
   "source": [
    "# check if neighborhoods have one intersection or more\n",
    "query_mask = intersections[\"neighborhood\"].value_counts() == 1\n",
    "query_mask"
   ]
  },
  {
   "cell_type": "code",
   "execution_count": 73,
   "metadata": {},
   "outputs": [
    {
     "data": {
      "text/plain": [
       "Arlington               1\n",
       "Bedford Dwellings       1\n",
       "Regent Square           1\n",
       "East Carnegie           1\n",
       "Mount Oliver Borough    1\n",
       "St. Clair               1\n",
       "Terrace Village         1\n",
       "New Homestead           1\n",
       "Fairywood               1\n",
       "Hays                    1\n",
       "Windgap                 1\n",
       "Name: neighborhood, dtype: int64"
      ]
     },
     "execution_count": 73,
     "metadata": {},
     "output_type": "execute_result"
    }
   ],
   "source": [
    "# filter out neighborhoods with more than one intersection\n",
    "intersections[\"neighborhood\"].value_counts()[query_mask]"
   ]
  },
  {
   "cell_type": "markdown",
   "metadata": {},
   "source": [
    "Oh. Looks like there are actually 11 neighborhoods with only one intersection. That didn't help a lot, but it is good to note. Once again, we will also look at a (largely unreadable) representation of all the neighborhoods."
   ]
  },
  {
   "cell_type": "code",
   "execution_count": 74,
   "metadata": {},
   "outputs": [
    {
     "data": {
      "text/plain": [
       "<matplotlib.axes._subplots.AxesSubplot at 0x7f10bc084580>"
      ]
     },
     "execution_count": 74,
     "metadata": {},
     "output_type": "execute_result"
    },
    {
     "data": {
      "image/png": "[encoded data removed]",
      "text/plain": [
       "<Figure size 1440x1440 with 1 Axes>"
      ]
     },
     "metadata": {
      "needs_background": "light"
     },
     "output_type": "display_data"
    }
   ],
   "source": [
    "# plot all the neighborhoods\n",
    "all_intersections = intersections[\"neighborhood\"].value_counts()\n",
    "all_intersections.sort_values().plot.bar(title=\"Signalized Intersections in Pittsburgh Neighborhoods\",\n",
    "                                 xlabel=\"Neighborhood\", ylabel=\"Intersection Count\", figsize=(20,20))"
   ]
  },
  {
   "cell_type": "markdown",
   "metadata": {},
   "source": [
    "Based on this graph, we know to avoid babysitting in neighborhoods with lots of intersections like Central Business District (Downtown), Shadyside, and Squirrel Hill South. Now we can combine these data sets to figure out the best neighborhood."
   ]
  }
 ],
 "metadata": {
  "kernelspec": {
   "display_name": "Python 3",
   "language": "python",
   "name": "python3"
  },
  "language_info": {
   "codemirror_mode": {
    "name": "ipython",
    "version": 3
   },
   "file_extension": ".py",
   "mimetype": "text/x-python",
   "name": "python",
   "nbconvert_exporter": "python",
   "pygments_lexer": "ipython3",
   "version": "3.8.3"
  }
 },
 "nbformat": 4,
 "nbformat_minor": 4
}
