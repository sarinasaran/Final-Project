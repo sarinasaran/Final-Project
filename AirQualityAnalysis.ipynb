{
 "cells": [
  {
   "cell_type": "markdown",
   "metadata": {},
   "source": [
    "## Why Air Quality for Babysitting?\n",
    "\n",
    "Let's be honest, when you're babysitting you do not want to be breathing in bad air. Chasing kids that are running around *already* takes an Olympic marathoner level of endurance. Thus, it is going to be ideal to babysit in a neighborhood with a better air quality. This section is an analysis of the Air Quality of different neighborhoods in Pittsburgh using the [Allegheny County Air Quality](https://data.wprdc.org/dataset/allegheny-county-air-quality) dataset."
   ]
  },
  {
   "cell_type": "markdown",
   "metadata": {},
   "source": [
    "### Understanding the Dataset"
   ]
  },
  {
   "cell_type": "code",
   "execution_count": 2,
   "metadata": {},
   "outputs": [],
   "source": []
  },
  {
   "cell_type": "code",
   "execution_count": null,
   "metadata": {},
   "outputs": [],
   "source": []
  }
 ],
 "metadata": {
  "kernelspec": {
   "display_name": "Python 3",
   "language": "python",
   "name": "python3"
  },
  "language_info": {
   "codemirror_mode": {
    "name": "ipython",
    "version": 3
   },
   "file_extension": ".py",
   "mimetype": "text/x-python",
   "name": "python",
   "nbconvert_exporter": "python",
   "pygments_lexer": "ipython3",
   "version": "3.8.3"
  }
 },
 "nbformat": 4,
 "nbformat_minor": 4
}
